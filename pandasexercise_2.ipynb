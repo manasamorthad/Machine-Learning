{
  "nbformat": 4,
  "nbformat_minor": 0,
  "metadata": {
    "colab": {
      "provenance": [],
      "authorship_tag": "ABX9TyNVNsnhPE9bsbm9KLETWzHq",
      "include_colab_link": true
    },
    "kernelspec": {
      "name": "python3",
      "display_name": "Python 3"
    },
    "language_info": {
      "name": "python"
    }
  },
  "cells": [
    {
      "cell_type": "markdown",
      "metadata": {
        "id": "view-in-github",
        "colab_type": "text"
      },
      "source": [
        "<a href=\"https://colab.research.google.com/github/manasamorthad/Machine-Learning/blob/main/pandasexercise_2.ipynb\" target=\"_parent\"><img src=\"https://colab.research.google.com/assets/colab-badge.svg\" alt=\"Open In Colab\"/></a>"
      ]
    },
    {
      "cell_type": "code",
      "execution_count": null,
      "metadata": {
        "colab": {
          "base_uri": "https://localhost:8080/"
        },
        "id": "94XuntXTTJLc",
        "outputId": "c042968e-744e-4181-aded-d5c7b218a9a3"
      },
      "outputs": [
        {
          "output_type": "stream",
          "name": "stdout",
          "text": [
            "  Item   Company  Rupees  USD\n",
            "0   TV        LG   12000  700\n",
            "1   TV  VIDEOCON   10000  650\n",
            "2   TV        LG   15000  800\n",
            "3   AC      SONY   14000  750\n"
          ]
        }
      ],
      "source": [
        "import pandas as pd\n",
        "data={'Item':['TV','TV','TV','AC'],'Company':['LG','VIDEOCON','LG','SONY'],\n",
        "      'Rupees':[12000,10000,15000,14000],'USD':[700,650,800,750]}\n",
        "df=pd.DataFrame(data)\n",
        "print(df)"
      ]
    },
    {
      "cell_type": "code",
      "source": [
        "new_data = [\n",
        "    {'Item': 'AC', 'Company': 'LG', 'Rupees': 13000, 'USD': 720},\n",
        "    {'Item': 'TV', 'Company': 'SONY', 'Rupees': 16000, 'USD': 850}\n",
        "]\n",
        "new_rows = pd.DataFrame(new_data)\n",
        "df = pd.concat([df, new_rows], ignore_index=True)\n",
        "print(\"DataFrame after adding new rows:\")\n",
        "print(df)"
      ],
      "metadata": {
        "colab": {
          "base_uri": "https://localhost:8080/"
        },
        "id": "UuxXPOAry09v",
        "outputId": "a784b698-390b-489d-e7f3-6348dc6f48a0"
      },
      "execution_count": null,
      "outputs": [
        {
          "output_type": "stream",
          "name": "stdout",
          "text": [
            "DataFrame after adding new rows:\n",
            "  Item   Company  Rupees  USD\n",
            "0   TV        LG   12000  700\n",
            "1   TV  VIDEOCON   10000  650\n",
            "2   TV        LG   15000  800\n",
            "3   AC      SONY   14000  750\n",
            "4   AC        LG   13000  720\n",
            "5   TV      SONY   16000  850\n"
          ]
        }
      ]
    },
    {
      "cell_type": "code",
      "source": [
        "lg_tv=df[(df['Item']=='TV')&(df['Company']=='LG')]\n",
        "max_price=lg_tv['Rupees'].max()\n",
        "print('Maximum price of LG TV:',max_price)"
      ],
      "metadata": {
        "colab": {
          "base_uri": "https://localhost:8080/"
        },
        "id": "gpv6P5nXzlpM",
        "outputId": "e2f9f156-7479-40b8-9bc6-bd41530fba8c"
      },
      "execution_count": null,
      "outputs": [
        {
          "output_type": "stream",
          "name": "stdout",
          "text": [
            "Maximum price of LG TV: 15000\n"
          ]
        }
      ]
    },
    {
      "cell_type": "code",
      "source": [
        "total_rupees=df['Rupees'].sum()\n",
        "total_usd=df['USD'].sum()\n",
        "print('Total Rupees:',total_rupees)\n",
        "print('Total USD:',total_usd)"
      ],
      "metadata": {
        "colab": {
          "base_uri": "https://localhost:8080/"
        },
        "id": "mbSJTjff1T8R",
        "outputId": "b9e92e8a-8cec-4204-989f-58f1b6617483"
      },
      "execution_count": null,
      "outputs": [
        {
          "output_type": "stream",
          "name": "stdout",
          "text": [
            "Total Rupees: 80000\n",
            "Total USD: 4470\n"
          ]
        }
      ]
    },
    {
      "cell_type": "code",
      "source": [
        "sony_products=df[df['Company']== 'SONY']\n",
        "median_usd=sony_products['USD'].median()\n",
        "print('Medain of the usd of sony products is:',median_usd)"
      ],
      "metadata": {
        "colab": {
          "base_uri": "https://localhost:8080/"
        },
        "id": "LpTPJuKr1tkF",
        "outputId": "ca29b699-3a8b-4cc5-e20d-836b35ce09df"
      },
      "execution_count": null,
      "outputs": [
        {
          "output_type": "stream",
          "name": "stdout",
          "text": [
            "Medain of the usd of sony products is: 800.0\n"
          ]
        }
      ]
    },
    {
      "cell_type": "code",
      "source": [
        "import pandas as pd\n",
        "import numpy as np\n",
        "data={\"Name\":[\"Aparna\",\"Pankaj\",\"Ram\",\"Ramesh\",\"Naveen\",\"krrishnav\",\"Bhawana\"],\n",
        "      \"Degree\":[\"MBA\",\"BCA\",\"M.Tech\",\"MBA\",np.nan,\"BCA\",\"MBA\"],\n",
        "      \"Score\":[90,np.nan,80,98,97,78,89]}\n",
        "df1=pd.DataFrame(data)\n",
        "print(df1)"
      ],
      "metadata": {
        "colab": {
          "base_uri": "https://localhost:8080/"
        },
        "id": "CZusOCRPmzEf",
        "outputId": "5ca2ecc5-26d2-45d5-97a8-1c3eca2509ab"
      },
      "execution_count": 8,
      "outputs": [
        {
          "output_type": "stream",
          "name": "stdout",
          "text": [
            "        Name  Degree  Score\n",
            "0     Aparna     MBA   90.0\n",
            "1     Pankaj     BCA    NaN\n",
            "2        Ram  M.Tech   80.0\n",
            "3     Ramesh     MBA   98.0\n",
            "4     Naveen     NaN   97.0\n",
            "5  krrishnav     BCA   78.0\n",
            "6    Bhawana     MBA   89.0\n"
          ]
        }
      ]
    },
    {
      "cell_type": "code",
      "source": [
        "print(df1.groupby(\"Degree\")[\"Score\"].max())\n"
      ],
      "metadata": {
        "colab": {
          "base_uri": "https://localhost:8080/"
        },
        "id": "1niF9ew6xOE9",
        "outputId": "54af3d6b-b72b-489b-a015-38ef0dc558ea"
      },
      "execution_count": 9,
      "outputs": [
        {
          "output_type": "stream",
          "name": "stdout",
          "text": [
            "Degree\n",
            "BCA       78.0\n",
            "M.Tech    80.0\n",
            "MBA       98.0\n",
            "Name: Score, dtype: float64\n"
          ]
        }
      ]
    },
    {
      "cell_type": "code",
      "source": [
        "df1[\"Score\"] = df1[\"Score\"].fillna(76)\n",
        "print(df1)"
      ],
      "metadata": {
        "colab": {
          "base_uri": "https://localhost:8080/"
        },
        "id": "ffOeHFHqx3M_",
        "outputId": "8785be36-4add-4b10-dc2c-03694d4440d5"
      },
      "execution_count": 10,
      "outputs": [
        {
          "output_type": "stream",
          "name": "stdout",
          "text": [
            "        Name  Degree  Score\n",
            "0     Aparna     MBA   90.0\n",
            "1     Pankaj     BCA   76.0\n",
            "2        Ram  M.Tech   80.0\n",
            "3     Ramesh     MBA   98.0\n",
            "4     Naveen     NaN   97.0\n",
            "5  krrishnav     BCA   78.0\n",
            "6    Bhawana     MBA   89.0\n"
          ]
        }
      ]
    },
    {
      "cell_type": "code",
      "source": [
        "df1.set_index(\"Name\",inplace=True)\n",
        "print(df1)"
      ],
      "metadata": {
        "colab": {
          "base_uri": "https://localhost:8080/"
        },
        "id": "fJpMipv2yw3n",
        "outputId": "91dfec89-1879-4e6c-be36-254b94d16c22"
      },
      "execution_count": 12,
      "outputs": [
        {
          "output_type": "stream",
          "name": "stdout",
          "text": [
            "           Degree  Score\n",
            "Name                    \n",
            "Aparna        MBA   90.0\n",
            "Pankaj        BCA   76.0\n",
            "Ram        M.Tech   80.0\n",
            "Ramesh        MBA   98.0\n",
            "Naveen        NaN   97.0\n",
            "krrishnav     BCA   78.0\n",
            "Bhawana       MBA   89.0\n"
          ]
        }
      ]
    },
    {
      "cell_type": "code",
      "source": [
        "print(df1.groupby([\"Name\", \"Degree\"])[\"Score\"].mean())\n"
      ],
      "metadata": {
        "colab": {
          "base_uri": "https://localhost:8080/"
        },
        "id": "2bFg46Odzw82",
        "outputId": "16c2f108-e840-46de-ab82-45ece87db3e4"
      },
      "execution_count": 13,
      "outputs": [
        {
          "output_type": "stream",
          "name": "stdout",
          "text": [
            "Name       Degree\n",
            "Aparna     MBA       90.0\n",
            "Bhawana    MBA       89.0\n",
            "Pankaj     BCA       76.0\n",
            "Ram        M.Tech    80.0\n",
            "Ramesh     MBA       98.0\n",
            "krrishnav  BCA       78.0\n",
            "Name: Score, dtype: float64\n"
          ]
        }
      ]
    },
    {
      "cell_type": "code",
      "source": [
        "print(df1[\"Degree\"].value_counts().get(\"MBA\", 0))\n"
      ],
      "metadata": {
        "colab": {
          "base_uri": "https://localhost:8080/"
        },
        "id": "tLTpANJ-z2c6",
        "outputId": "f50410b8-7374-44a0-951a-b4fb149956f3"
      },
      "execution_count": 14,
      "outputs": [
        {
          "output_type": "stream",
          "name": "stdout",
          "text": [
            "3\n"
          ]
        }
      ]
    },
    {
      "cell_type": "code",
      "source": [
        "mode_bca = df1[df1[\"Degree\"] == \"BCA\"][\"Score\"].mode()\n",
        "print(mode_bca)\n"
      ],
      "metadata": {
        "colab": {
          "base_uri": "https://localhost:8080/"
        },
        "id": "4G_qxAIr0HJ9",
        "outputId": "06ac78e6-fdc3-476a-8411-e0222ae03caa"
      },
      "execution_count": 15,
      "outputs": [
        {
          "output_type": "stream",
          "name": "stdout",
          "text": [
            "0    76.0\n",
            "1    78.0\n",
            "Name: Score, dtype: float64\n"
          ]
        }
      ]
    },
    {
      "cell_type": "code",
      "source": [
        "from google.colab import files\n",
        "uploaded = files.upload()\n"
      ],
      "metadata": {
        "colab": {
          "base_uri": "https://localhost:8080/",
          "height": 73
        },
        "id": "p4u1SoY12gnz",
        "outputId": "23fd9da3-e1da-4daa-971c-5a5f71b9c277"
      },
      "execution_count": 20,
      "outputs": [
        {
          "output_type": "display_data",
          "data": {
            "text/plain": [
              "<IPython.core.display.HTML object>"
            ],
            "text/html": [
              "\n",
              "     <input type=\"file\" id=\"files-f9ced56d-81f1-4d51-b06a-ec51783a357e\" name=\"files[]\" multiple disabled\n",
              "        style=\"border:none\" />\n",
              "     <output id=\"result-f9ced56d-81f1-4d51-b06a-ec51783a357e\">\n",
              "      Upload widget is only available when the cell has been executed in the\n",
              "      current browser session. Please rerun this cell to enable.\n",
              "      </output>\n",
              "      <script>// Copyright 2017 Google LLC\n",
              "//\n",
              "// Licensed under the Apache License, Version 2.0 (the \"License\");\n",
              "// you may not use this file except in compliance with the License.\n",
              "// You may obtain a copy of the License at\n",
              "//\n",
              "//      http://www.apache.org/licenses/LICENSE-2.0\n",
              "//\n",
              "// Unless required by applicable law or agreed to in writing, software\n",
              "// distributed under the License is distributed on an \"AS IS\" BASIS,\n",
              "// WITHOUT WARRANTIES OR CONDITIONS OF ANY KIND, either express or implied.\n",
              "// See the License for the specific language governing permissions and\n",
              "// limitations under the License.\n",
              "\n",
              "/**\n",
              " * @fileoverview Helpers for google.colab Python module.\n",
              " */\n",
              "(function(scope) {\n",
              "function span(text, styleAttributes = {}) {\n",
              "  const element = document.createElement('span');\n",
              "  element.textContent = text;\n",
              "  for (const key of Object.keys(styleAttributes)) {\n",
              "    element.style[key] = styleAttributes[key];\n",
              "  }\n",
              "  return element;\n",
              "}\n",
              "\n",
              "// Max number of bytes which will be uploaded at a time.\n",
              "const MAX_PAYLOAD_SIZE = 100 * 1024;\n",
              "\n",
              "function _uploadFiles(inputId, outputId) {\n",
              "  const steps = uploadFilesStep(inputId, outputId);\n",
              "  const outputElement = document.getElementById(outputId);\n",
              "  // Cache steps on the outputElement to make it available for the next call\n",
              "  // to uploadFilesContinue from Python.\n",
              "  outputElement.steps = steps;\n",
              "\n",
              "  return _uploadFilesContinue(outputId);\n",
              "}\n",
              "\n",
              "// This is roughly an async generator (not supported in the browser yet),\n",
              "// where there are multiple asynchronous steps and the Python side is going\n",
              "// to poll for completion of each step.\n",
              "// This uses a Promise to block the python side on completion of each step,\n",
              "// then passes the result of the previous step as the input to the next step.\n",
              "function _uploadFilesContinue(outputId) {\n",
              "  const outputElement = document.getElementById(outputId);\n",
              "  const steps = outputElement.steps;\n",
              "\n",
              "  const next = steps.next(outputElement.lastPromiseValue);\n",
              "  return Promise.resolve(next.value.promise).then((value) => {\n",
              "    // Cache the last promise value to make it available to the next\n",
              "    // step of the generator.\n",
              "    outputElement.lastPromiseValue = value;\n",
              "    return next.value.response;\n",
              "  });\n",
              "}\n",
              "\n",
              "/**\n",
              " * Generator function which is called between each async step of the upload\n",
              " * process.\n",
              " * @param {string} inputId Element ID of the input file picker element.\n",
              " * @param {string} outputId Element ID of the output display.\n",
              " * @return {!Iterable<!Object>} Iterable of next steps.\n",
              " */\n",
              "function* uploadFilesStep(inputId, outputId) {\n",
              "  const inputElement = document.getElementById(inputId);\n",
              "  inputElement.disabled = false;\n",
              "\n",
              "  const outputElement = document.getElementById(outputId);\n",
              "  outputElement.innerHTML = '';\n",
              "\n",
              "  const pickedPromise = new Promise((resolve) => {\n",
              "    inputElement.addEventListener('change', (e) => {\n",
              "      resolve(e.target.files);\n",
              "    });\n",
              "  });\n",
              "\n",
              "  const cancel = document.createElement('button');\n",
              "  inputElement.parentElement.appendChild(cancel);\n",
              "  cancel.textContent = 'Cancel upload';\n",
              "  const cancelPromise = new Promise((resolve) => {\n",
              "    cancel.onclick = () => {\n",
              "      resolve(null);\n",
              "    };\n",
              "  });\n",
              "\n",
              "  // Wait for the user to pick the files.\n",
              "  const files = yield {\n",
              "    promise: Promise.race([pickedPromise, cancelPromise]),\n",
              "    response: {\n",
              "      action: 'starting',\n",
              "    }\n",
              "  };\n",
              "\n",
              "  cancel.remove();\n",
              "\n",
              "  // Disable the input element since further picks are not allowed.\n",
              "  inputElement.disabled = true;\n",
              "\n",
              "  if (!files) {\n",
              "    return {\n",
              "      response: {\n",
              "        action: 'complete',\n",
              "      }\n",
              "    };\n",
              "  }\n",
              "\n",
              "  for (const file of files) {\n",
              "    const li = document.createElement('li');\n",
              "    li.append(span(file.name, {fontWeight: 'bold'}));\n",
              "    li.append(span(\n",
              "        `(${file.type || 'n/a'}) - ${file.size} bytes, ` +\n",
              "        `last modified: ${\n",
              "            file.lastModifiedDate ? file.lastModifiedDate.toLocaleDateString() :\n",
              "                                    'n/a'} - `));\n",
              "    const percent = span('0% done');\n",
              "    li.appendChild(percent);\n",
              "\n",
              "    outputElement.appendChild(li);\n",
              "\n",
              "    const fileDataPromise = new Promise((resolve) => {\n",
              "      const reader = new FileReader();\n",
              "      reader.onload = (e) => {\n",
              "        resolve(e.target.result);\n",
              "      };\n",
              "      reader.readAsArrayBuffer(file);\n",
              "    });\n",
              "    // Wait for the data to be ready.\n",
              "    let fileData = yield {\n",
              "      promise: fileDataPromise,\n",
              "      response: {\n",
              "        action: 'continue',\n",
              "      }\n",
              "    };\n",
              "\n",
              "    // Use a chunked sending to avoid message size limits. See b/62115660.\n",
              "    let position = 0;\n",
              "    do {\n",
              "      const length = Math.min(fileData.byteLength - position, MAX_PAYLOAD_SIZE);\n",
              "      const chunk = new Uint8Array(fileData, position, length);\n",
              "      position += length;\n",
              "\n",
              "      const base64 = btoa(String.fromCharCode.apply(null, chunk));\n",
              "      yield {\n",
              "        response: {\n",
              "          action: 'append',\n",
              "          file: file.name,\n",
              "          data: base64,\n",
              "        },\n",
              "      };\n",
              "\n",
              "      let percentDone = fileData.byteLength === 0 ?\n",
              "          100 :\n",
              "          Math.round((position / fileData.byteLength) * 100);\n",
              "      percent.textContent = `${percentDone}% done`;\n",
              "\n",
              "    } while (position < fileData.byteLength);\n",
              "  }\n",
              "\n",
              "  // All done.\n",
              "  yield {\n",
              "    response: {\n",
              "      action: 'complete',\n",
              "    }\n",
              "  };\n",
              "}\n",
              "\n",
              "scope.google = scope.google || {};\n",
              "scope.google.colab = scope.google.colab || {};\n",
              "scope.google.colab._files = {\n",
              "  _uploadFiles,\n",
              "  _uploadFilesContinue,\n",
              "};\n",
              "})(self);\n",
              "</script> "
            ]
          },
          "metadata": {}
        },
        {
          "output_type": "stream",
          "name": "stdout",
          "text": [
            "Saving auto-mpg.data to auto-mpg.data\n"
          ]
        }
      ]
    },
    {
      "cell_type": "code",
      "source": [
        "#1\n",
        "import pandas as pd\n",
        "import numpy as np\n",
        "\n",
        "columns = [\"mpg\", \"cylinders\", \"displacement\", \"horsepower\", \"weight\",\n",
        "           \"acceleration\", \"model_year\", \"origin\", \"car_name\"]\n",
        "\n",
        "autodf = pd.read_csv('auto-mpg.data', delim_whitespace=True, names=columns, na_values='?')\n",
        "\n",
        "#2\n",
        "print(autodf.describe(include='all'))\n",
        "\n",
        "#3\n",
        "print(autodf.head(10))\n",
        "\n",
        "#4\n",
        "print(autodf.isnull().sum())\n",
        "autodf_ffill = autodf.fillna(method='ffill')\n",
        "autodf_dropna = autodf.dropna()\n",
        "\n",
        "#5\n",
        "max_mpg_car = autodf.loc[autodf['mpg'].idxmax()]\n",
        "print(max_mpg_car)\n",
        "\n",
        "#6\n",
        "avg_disp = autodf.groupby(\"cylinders\")[\"displacement\"].mean()\n",
        "print(avg_disp)\n",
        "\n",
        "#7\n",
        "avg_cyl = autodf[\"cylinders\"].mean()\n",
        "print(avg_cyl)\n",
        "\n",
        "#8\n",
        "avg_weight = autodf[\"weight\"].mean()\n",
        "count_heavy_cars = autodf[autodf[\"weight\"] > avg_weight].shape[0]\n",
        "print(count_heavy_cars)\n"
      ],
      "metadata": {
        "colab": {
          "base_uri": "https://localhost:8080/"
        },
        "id": "kz9-nQNm2TUq",
        "outputId": "3d9ae5db-11dc-460c-8165-eae6cfab04e0"
      },
      "execution_count": 21,
      "outputs": [
        {
          "output_type": "stream",
          "name": "stdout",
          "text": [
            "               mpg   cylinders  displacement  horsepower       weight  \\\n",
            "count   398.000000  398.000000    398.000000  392.000000   398.000000   \n",
            "unique         NaN         NaN           NaN         NaN          NaN   \n",
            "top            NaN         NaN           NaN         NaN          NaN   \n",
            "freq           NaN         NaN           NaN         NaN          NaN   \n",
            "mean     23.514573    5.454774    193.425879  104.469388  2970.424623   \n",
            "std       7.815984    1.701004    104.269838   38.491160   846.841774   \n",
            "min       9.000000    3.000000     68.000000   46.000000  1613.000000   \n",
            "25%      17.500000    4.000000    104.250000   75.000000  2223.750000   \n",
            "50%      23.000000    4.000000    148.500000   93.500000  2803.500000   \n",
            "75%      29.000000    8.000000    262.000000  126.000000  3608.000000   \n",
            "max      46.600000    8.000000    455.000000  230.000000  5140.000000   \n",
            "\n",
            "        acceleration  model_year      origin    car_name  \n",
            "count     398.000000  398.000000  398.000000         398  \n",
            "unique           NaN         NaN         NaN         305  \n",
            "top              NaN         NaN         NaN  ford pinto  \n",
            "freq             NaN         NaN         NaN           6  \n",
            "mean       15.568090   76.010050    1.572864         NaN  \n",
            "std         2.757689    3.697627    0.802055         NaN  \n",
            "min         8.000000   70.000000    1.000000         NaN  \n",
            "25%        13.825000   73.000000    1.000000         NaN  \n",
            "50%        15.500000   76.000000    1.000000         NaN  \n",
            "75%        17.175000   79.000000    2.000000         NaN  \n",
            "max        24.800000   82.000000    3.000000         NaN  \n",
            "    mpg  cylinders  displacement  horsepower  weight  acceleration  \\\n",
            "0  18.0          8         307.0       130.0  3504.0          12.0   \n",
            "1  15.0          8         350.0       165.0  3693.0          11.5   \n",
            "2  18.0          8         318.0       150.0  3436.0          11.0   \n",
            "3  16.0          8         304.0       150.0  3433.0          12.0   \n",
            "4  17.0          8         302.0       140.0  3449.0          10.5   \n",
            "5  15.0          8         429.0       198.0  4341.0          10.0   \n",
            "6  14.0          8         454.0       220.0  4354.0           9.0   \n",
            "7  14.0          8         440.0       215.0  4312.0           8.5   \n",
            "8  14.0          8         455.0       225.0  4425.0          10.0   \n",
            "9  15.0          8         390.0       190.0  3850.0           8.5   \n",
            "\n",
            "   model_year  origin                   car_name  \n",
            "0          70       1  chevrolet chevelle malibu  \n",
            "1          70       1          buick skylark 320  \n",
            "2          70       1         plymouth satellite  \n",
            "3          70       1              amc rebel sst  \n",
            "4          70       1                ford torino  \n",
            "5          70       1           ford galaxie 500  \n",
            "6          70       1           chevrolet impala  \n",
            "7          70       1          plymouth fury iii  \n",
            "8          70       1           pontiac catalina  \n",
            "9          70       1         amc ambassador dpl  \n",
            "mpg             0\n",
            "cylinders       0\n",
            "displacement    0\n",
            "horsepower      6\n",
            "weight          0\n",
            "acceleration    0\n",
            "model_year      0\n",
            "origin          0\n",
            "car_name        0\n",
            "dtype: int64\n",
            "mpg                  46.6\n",
            "cylinders               4\n",
            "displacement         86.0\n",
            "horsepower           65.0\n",
            "weight             2110.0\n",
            "acceleration         17.9\n",
            "model_year             80\n",
            "origin                  3\n",
            "car_name        mazda glc\n",
            "Name: 322, dtype: object\n",
            "cylinders\n",
            "3     72.500000\n",
            "4    109.796569\n",
            "5    145.000000\n",
            "6    218.142857\n",
            "8    345.009709\n",
            "Name: displacement, dtype: float64\n",
            "5.454773869346734\n",
            "171\n"
          ]
        },
        {
          "output_type": "stream",
          "name": "stderr",
          "text": [
            "/tmp/ipython-input-21-3385083519.py:7: FutureWarning: The 'delim_whitespace' keyword in pd.read_csv is deprecated and will be removed in a future version. Use ``sep='\\s+'`` instead\n",
            "  autodf = pd.read_csv('auto-mpg.data', delim_whitespace=True, names=columns, na_values='?')\n",
            "/tmp/ipython-input-21-3385083519.py:15: FutureWarning: DataFrame.fillna with 'method' is deprecated and will raise in a future version. Use obj.ffill() or obj.bfill() instead.\n",
            "  autodf_ffill = autodf.fillna(method='ffill')\n"
          ]
        }
      ]
    }
  ]
}
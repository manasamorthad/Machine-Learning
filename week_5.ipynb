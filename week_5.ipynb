{
  "nbformat": 4,
  "nbformat_minor": 0,
  "metadata": {
    "colab": {
      "provenance": [],
      "authorship_tag": "ABX9TyMW6UgMOkHi10uSRZ1aQkJ1",
      "include_colab_link": true
    },
    "kernelspec": {
      "name": "python3",
      "display_name": "Python 3"
    },
    "language_info": {
      "name": "python"
    }
  },
  "cells": [
    {
      "cell_type": "markdown",
      "metadata": {
        "id": "view-in-github",
        "colab_type": "text"
      },
      "source": [
        "<a href=\"https://colab.research.google.com/github/manasamorthad/Machine-Learning/blob/main/week_5.ipynb\" target=\"_parent\"><img src=\"https://colab.research.google.com/assets/colab-badge.svg\" alt=\"Open In Colab\"/></a>"
      ]
    },
    {
      "cell_type": "code",
      "execution_count": 2,
      "metadata": {
        "id": "TraWVDyE5_i0"
      },
      "outputs": [],
      "source": [
        "import pandas as pd\n",
        "import numpy as np\n",
        "from sklearn.linear_model import LinearRegression\n",
        "import matplotlib.pyplot as plt\n",
        "import seaborn as sns\n",
        "from sklearn.model_selection import train_test_split, cross_val_score\n",
        "from sklearn.preprocessing import PolynomialFeatures, StandardScaler\n",
        "from sklearn.linear_model import LinearRegression, RidgeCV, LassoCV\n",
        "from sklearn.metrics import mean_absolute_error, mean_squared_error, r2_score\n",
        "from sklearn.linear_model import Ridge, Lasso"
      ]
    },
    {
      "cell_type": "code",
      "source": [
        "df = pd.read_csv('/content/car_price_prediction.csv')\n",
        "df = df.dropna(subset=['fiyat'])\n",
        "numeric_cols = ['yil', 'kilometre', 'motor_hacmi', 'motor_gucu', 'fiyat']\n",
        "for col in numeric_cols:\n",
        "    df[col] = df[col].fillna(df[col].median())\n",
        "\n",
        "categorical_cols = ['marka', 'seri', 'model', 'vites_tipi', 'yakit_tipi', 'kasa_tipi', 'renk', 'kimden']\n",
        "df[categorical_cols] = df[categorical_cols].fillna('Unknown')\n",
        "df_encoded = pd.get_dummies(df, columns=categorical_cols, drop_first=True)"
      ],
      "metadata": {
        "id": "TR6qtgkZ668b"
      },
      "execution_count": 3,
      "outputs": []
    },
    {
      "cell_type": "code",
      "source": [
        "y = df_encoded['fiyat']\n",
        "X_selected = df[['kilometre', 'yil', 'motor_gucu']]\n",
        "poly = PolynomialFeatures(degree=2)\n",
        "X_numeric_poly = poly.fit_transform(X_selected)"
      ],
      "metadata": {
        "id": "rZH3qZ336_bO"
      },
      "execution_count": 4,
      "outputs": []
    },
    {
      "cell_type": "code",
      "source": [
        "df_cat_encoded = df_encoded.drop(['kilometre','yil','motor_gucu','fiyat'], axis=1)\n",
        "df_cat_encoded = df_cat_encoded.apply(pd.to_numeric, errors='coerce')\n",
        "cat_array = df_cat_encoded.values.astype(float)\n",
        "X_final = np.concatenate((X_numeric_poly, cat_array), axis=1)\n",
        "\n",
        "X_final = np.nan_to_num(X_final)\n",
        "\n",
        "X_train, X_test, y_train, y_test = train_test_split(X_final, y, test_size=0.2, random_state=42)"
      ],
      "metadata": {
        "id": "2PvEsYsk7CdU"
      },
      "execution_count": 5,
      "outputs": []
    },
    {
      "cell_type": "code",
      "source": [
        "scaler = StandardScaler()\n",
        "X_train_scaled = scaler.fit_transform(X_train)\n",
        "X_test_scaled = scaler.transform(X_test)"
      ],
      "metadata": {
        "id": "VWtVvEnC7FQI"
      },
      "execution_count": 6,
      "outputs": []
    },
    {
      "cell_type": "code",
      "source": [
        "model = LinearRegression()\n",
        "model.fit(X_train_scaled, y_train)\n",
        "y_pred = model.predict(X_test_scaled )\n",
        "\n",
        "mse = mean_squared_error(y_test, y_pred)\n",
        "rmse = np.sqrt(mse)\n",
        "\n",
        "print(\"Final R² Score:\", r2_score(y_test, y_pred))\n",
        "print(\"MAE:\", mean_absolute_error(y_test, y_pred))\n",
        "print(\"MSE:\", mse)\n",
        "print(\"RMSE:\", rmse)\n",
        "print(\"Final number of features:\", X_final.shape[1])"
      ],
      "metadata": {
        "colab": {
          "base_uri": "https://localhost:8080/"
        },
        "id": "I7GBYpRX7JkX",
        "outputId": "acd1cc50-6d1a-46cb-806c-2c2d43a32825"
      },
      "execution_count": 7,
      "outputs": [
        {
          "output_type": "stream",
          "name": "stdout",
          "text": [
            "Final R² Score: 0.07065364180659262\n",
            "MAE: 312729.0496356146\n",
            "MSE: 47003705459209.445\n",
            "RMSE: 6855924.843462729\n",
            "Final number of features: 3977\n"
          ]
        }
      ]
    },
    {
      "cell_type": "code",
      "source": [
        "ridge = Ridge(alpha=10)\n",
        "ridge.fit(X_train_scaled, y_train)\n",
        "ridge_pred = ridge.predict(X_test_scaled)"
      ],
      "metadata": {
        "id": "A363_e2o7KQx"
      },
      "execution_count": 8,
      "outputs": []
    },
    {
      "cell_type": "code",
      "source": [
        "ridge_mse = mean_squared_error(y_test, ridge_pred)\n",
        "ridge_rmse = np.sqrt(ridge_mse)"
      ],
      "metadata": {
        "id": "csEee4xv-UkR"
      },
      "execution_count": 9,
      "outputs": []
    },
    {
      "cell_type": "code",
      "source": [
        "print(\"\\n--- Ridge Regression ---\")\n",
        "print(\"R² Score:\", r2_score(y_test, ridge_pred))\n",
        "print(\"MAE:\", mean_absolute_error(y_test, ridge_pred))\n",
        "print(\"MSE:\", ridge_mse)\n",
        "print(\"RMSE:\", ridge_rmse)\n",
        "print(\"Number of non-zero coefficients:\", np.sum(ridge.coef_ != 0))"
      ],
      "metadata": {
        "colab": {
          "base_uri": "https://localhost:8080/"
        },
        "id": "fpGpGPJ17Nfy",
        "outputId": "a03cc044-1b7e-4d6c-a950-71d23fbf0230"
      },
      "execution_count": 10,
      "outputs": [
        {
          "output_type": "stream",
          "name": "stdout",
          "text": [
            "\n",
            "--- Ridge Regression ---\n",
            "R² Score: 0.06820991216837358\n",
            "MAE: 307482.27611568273\n",
            "MSE: 47127302379909.79\n",
            "RMSE: 6864932.802286545\n",
            "Number of non-zero coefficients: 3766\n"
          ]
        }
      ]
    },
    {
      "cell_type": "code",
      "source": [
        "lasso = Lasso(alpha=0.1, max_iter=1000)  # Lasso needs more iterations for convergence\n",
        "lasso.fit(X_train, y_train)\n",
        "lasso_pred = lasso.predict(X_test)"
      ],
      "metadata": {
        "colab": {
          "base_uri": "https://localhost:8080/"
        },
        "id": "q1bhAvxe7SA0",
        "outputId": "79346b88-3664-411a-d9a9-bbf6aba7426d"
      },
      "execution_count": 11,
      "outputs": [
        {
          "output_type": "stream",
          "name": "stderr",
          "text": [
            "/usr/local/lib/python3.12/dist-packages/sklearn/linear_model/_coordinate_descent.py:695: ConvergenceWarning: Objective did not converge. You might want to increase the number of iterations, check the scale of the features or consider increasing regularisation. Duality gap: 1.112e+17, tolerance: 4.920e+13\n",
            "  model = cd_fast.enet_coordinate_descent(\n"
          ]
        }
      ]
    },
    {
      "cell_type": "code",
      "source": [
        "lasso_mse = mean_squared_error(y_test, lasso_pred)\n",
        "lasso_rmse = np.sqrt(lasso_mse)"
      ],
      "metadata": {
        "id": "VKECpftP7XLw"
      },
      "execution_count": 12,
      "outputs": []
    },
    {
      "cell_type": "code",
      "source": [
        "print(\"\\n--- Lasso Regression ---\")\n",
        "print(\"R² Score:\", r2_score(y_test, lasso_pred))\n",
        "print(\"MAE:\", mean_absolute_error(y_test, lasso_pred))\n",
        "print(\"MSE:\", lasso_mse)\n",
        "print(\"RMSE:\", lasso_rmse)\n",
        "print(\"Number of non-zero coefficients:\", np.sum(lasso.coef_ != 0))"
      ],
      "metadata": {
        "colab": {
          "base_uri": "https://localhost:8080/"
        },
        "id": "jAb0t-7o7awL",
        "outputId": "b34e43e1-4514-4f53-f575-442277b68896"
      },
      "execution_count": 13,
      "outputs": [
        {
          "output_type": "stream",
          "name": "stdout",
          "text": [
            "\n",
            "--- Lasso Regression ---\n",
            "R² Score: 0.08643565241329088\n",
            "MAE: 305679.2679691992\n",
            "MSE: 46205496081649.28\n",
            "RMSE: 6797462.473721299\n",
            "Number of non-zero coefficients: 3664\n"
          ]
        }
      ]
    },
    {
      "cell_type": "code",
      "source": [
        "print(\"\\n--- Comparison of Models ---\")\n",
        "print(f\"Linear Regression MSE: {mse:.2f}\")\n",
        "print(f\"Ridge Regression MSE: {ridge_mse:.2f}\")\n",
        "print(f\"Lasso Regression MSE: {lasso_mse:.2f}\")"
      ],
      "metadata": {
        "colab": {
          "base_uri": "https://localhost:8080/"
        },
        "id": "xKhQ7Lc-7fJ5",
        "outputId": "ee08b86a-e4ee-457c-9445-3b3afac36c5d"
      },
      "execution_count": 14,
      "outputs": [
        {
          "output_type": "stream",
          "name": "stdout",
          "text": [
            "\n",
            "--- Comparison of Models ---\n",
            "Linear Regression MSE: 47003705459209.45\n",
            "Ridge Regression MSE: 47127302379909.79\n",
            "Lasso Regression MSE: 46205496081649.28\n"
          ]
        }
      ]
    }
  ]
}